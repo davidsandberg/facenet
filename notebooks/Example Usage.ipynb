{
 "cells": [
  {
   "cell_type": "code",
   "execution_count": 1,
   "metadata": {
    "ExecuteTime": {
     "end_time": "2018-11-07T15:46:06.403900Z",
     "start_time": "2018-11-07T15:45:50.978981Z"
    }
   },
   "outputs": [],
   "source": [
    "from facenet_sandberg import Identifier, get_image_from_path_rgb, get_image_from_path_bgr, \\\n",
    "                            Detector, embedding_distance, DistanceMetric, get_images_from_dir, \\\n",
    "                            get_dataset, tsne_sklearn, tsne_tensorboard\n",
    "import matplotlib.pyplot as plt\n",
    "import matplotlib\n",
    "import numpy as np\n",
    "import os\n",
    "from sklearn.manifold import TSNE\n",
    "import glob\n",
    "import cv2\n",
    "import PIL\n",
    "\n",
    "\n",
    "%matplotlib inline"
   ]
  },
  {
   "cell_type": "markdown",
   "metadata": {},
   "source": [
    "### Get images"
   ]
  },
  {
   "cell_type": "code",
   "execution_count": null,
   "metadata": {
    "ExecuteTime": {
     "end_time": "2018-11-07T09:30:58.536355Z",
     "start_time": "2018-11-07T09:30:58.395673Z"
    }
   },
   "outputs": [],
   "source": [
    "noam_chomsky_1 = get_image_from_path_rgb(\"noam-chomsky-1.jpg\")\n",
    "noam_chomsky_2 = get_image_from_path_rgb(\"noam-chomsky-2.jpg\")\n",
    "not_noam_chomsky = get_image_from_path_rgb(\"not-noam-chomsky.jpg\")"
   ]
  },
  {
   "cell_type": "code",
   "execution_count": null,
   "metadata": {
    "ExecuteTime": {
     "end_time": "2018-11-07T09:30:58.614393Z",
     "start_time": "2018-11-07T09:30:58.610963Z"
    }
   },
   "outputs": [],
   "source": [
    "def plot_images(image_1, image_2):\n",
    "    f = plt.figure()\n",
    "    f.add_subplot(1,2, 1)\n",
    "    plt.imshow(image_1)\n",
    "    f.add_subplot(1,2, 2)\n",
    "    plt.imshow(image_2)"
   ]
  },
  {
   "cell_type": "code",
   "execution_count": null,
   "metadata": {
    "ExecuteTime": {
     "end_time": "2018-11-07T09:30:59.581428Z",
     "start_time": "2018-11-07T09:30:58.618548Z"
    }
   },
   "outputs": [],
   "source": [
    "images = list(get_images_from_dir('people/noam_chomsky', recursive=False))\n",
    "plt.imshow(images[3])"
   ]
  },
  {
   "cell_type": "markdown",
   "metadata": {},
   "source": [
    "# Align"
   ]
  },
  {
   "cell_type": "code",
   "execution_count": null,
   "metadata": {
    "ExecuteTime": {
     "end_time": "2018-11-07T09:31:03.729522Z",
     "start_time": "2018-11-07T09:30:59.584935Z"
    }
   },
   "outputs": [],
   "source": [
    "detector = Detector()"
   ]
  },
  {
   "cell_type": "code",
   "execution_count": null,
   "metadata": {
    "ExecuteTime": {
     "end_time": "2018-11-07T09:31:05.301240Z",
     "start_time": "2018-11-07T09:31:03.732423Z"
    }
   },
   "outputs": [],
   "source": [
    "faces = detector.find_faces(noam_chomsky_1)"
   ]
  },
  {
   "cell_type": "code",
   "execution_count": null,
   "metadata": {
    "ExecuteTime": {
     "end_time": "2018-11-07T09:31:05.727674Z",
     "start_time": "2018-11-07T09:31:05.303622Z"
    }
   },
   "outputs": [],
   "source": [
    "plot_images(noam_chomsky_1, faces[0].image)"
   ]
  },
  {
   "cell_type": "markdown",
   "metadata": {},
   "source": [
    "### Bulk align"
   ]
  },
  {
   "cell_type": "code",
   "execution_count": null,
   "metadata": {
    "ExecuteTime": {
     "end_time": "2018-11-07T09:31:13.554953Z",
     "start_time": "2018-11-07T09:31:05.729619Z"
    }
   },
   "outputs": [],
   "source": [
    "aligned_images = list(detector.bulk_find_face(images))"
   ]
  },
  {
   "cell_type": "code",
   "execution_count": null,
   "metadata": {
    "ExecuteTime": {
     "end_time": "2018-11-07T09:31:13.742371Z",
     "start_time": "2018-11-07T09:31:13.557184Z"
    }
   },
   "outputs": [],
   "source": [
    "plt.imshow(aligned_images[3][0].image)"
   ]
  },
  {
   "cell_type": "markdown",
   "metadata": {},
   "source": [
    "# Vectorize"
   ]
  },
  {
   "cell_type": "code",
   "execution_count": null,
   "metadata": {
    "ExecuteTime": {
     "end_time": "2018-11-07T14:03:30.267305Z",
     "start_time": "2018-11-07T14:03:27.088999Z"
    }
   },
   "outputs": [],
   "source": [
    "identifier = Identifier(model_path=os.path.join('models','facenet_model.pb'))"
   ]
  },
  {
   "cell_type": "markdown",
   "metadata": {},
   "source": [
    "### Get single face vectors"
   ]
  },
  {
   "cell_type": "code",
   "execution_count": null,
   "metadata": {
    "ExecuteTime": {
     "end_time": "2018-11-05T09:04:31.938275Z",
     "start_time": "2018-11-05T09:04:28.815586Z"
    }
   },
   "outputs": [],
   "source": [
    "# vectorize() returns an array of vectors, one for each face in a single image (we grab the first because there is only one\n",
    "# face in these images)\n",
    "vector_1 = identifier.vectorize(noam_chomsky_1)[0]\n",
    "vector_2 = identifier.vectorize(noam_chomsky_2)[0]\n",
    "vector_3 = identifier.vectorize(not_noam_chomsky)[0]"
   ]
  },
  {
   "cell_type": "code",
   "execution_count": null,
   "metadata": {
    "ExecuteTime": {
     "end_time": "2018-11-05T10:10:33.309081Z",
     "start_time": "2018-11-05T10:10:33.299194Z"
    }
   },
   "outputs": [],
   "source": [
    "vector_1"
   ]
  },
  {
   "cell_type": "markdown",
   "metadata": {},
   "source": [
    "### Visualize face encodings: Facenet"
   ]
  },
  {
   "cell_type": "code",
   "execution_count": null,
   "metadata": {
    "ExecuteTime": {
     "end_time": "2018-11-07T14:51:17.533893Z",
     "start_time": "2018-11-07T14:51:17.026358Z"
    }
   },
   "outputs": [],
   "source": [
    "noam_images = list(map(get_image_from_path_rgb, glob.glob(\"people/noam_chomsky/*.*\")))\n",
    "other_people = list(map(get_image_from_path_rgb, glob.glob(\"people/foucault/*.*\")))"
   ]
  },
  {
   "cell_type": "code",
   "execution_count": null,
   "metadata": {
    "ExecuteTime": {
     "end_time": "2018-11-07T14:51:46.222916Z",
     "start_time": "2018-11-07T14:51:17.542278Z"
    }
   },
   "outputs": [],
   "source": [
    "# We use the bulk encoding method vectorize_all() because it's much faster \n",
    "# Filter out empty arrays and grab the first item from each array of vectors per image \n",
    "noam_vectors = list(map(lambda x : x[0], filter(None, identifier.vectorize_all(noam_images, prealigned=False))))\n",
    "other_vectors = list(map(lambda x : x[0], filter(None, identifier.vectorize_all(other_people, prealigned=False))))"
   ]
  },
  {
   "cell_type": "code",
   "execution_count": null,
   "metadata": {
    "ExecuteTime": {
     "end_time": "2018-11-07T14:51:46.236171Z",
     "start_time": "2018-11-07T14:51:46.226300Z"
    }
   },
   "outputs": [],
   "source": [
    "# combine into one features array\n",
    "features = np.array(noam_vectors + other_vectors)\n",
    "# label each feature (0 is noam and 1 is not noam)\n",
    "labels = np.array(([0] * len(noam_vectors)) + ([1] * len(other_vectors)) )"
   ]
  },
  {
   "cell_type": "code",
   "execution_count": null,
   "metadata": {
    "ExecuteTime": {
     "end_time": "2018-11-07T14:51:47.619724Z",
     "start_time": "2018-11-07T14:51:46.240623Z"
    }
   },
   "outputs": [],
   "source": [
    "# use tsne to reduce dimensionality for visualization\n",
    "tsne = TSNE(n_components=2, random_state=0)\n",
    "reduced = tsne.fit_transform(features)"
   ]
  },
  {
   "cell_type": "code",
   "execution_count": null,
   "metadata": {
    "ExecuteTime": {
     "end_time": "2018-11-07T14:51:47.956023Z",
     "start_time": "2018-11-07T14:51:47.621815Z"
    }
   },
   "outputs": [],
   "source": [
    "plt.figure(figsize=(20, 20))\n",
    "colors = 'r', 'g',\n",
    "for i, c, label in zip([0, 1], colors, ['noam_chomsky', 'foucault']):\n",
    "    plt.scatter(reduced[labels == i, 0], reduced[labels == i, 1], c=c, label=label)\n",
    "plt.legend()\n",
    "plt.show()"
   ]
  },
  {
   "cell_type": "markdown",
   "metadata": {},
   "source": [
    "### Visualize face encodings: Insightface"
   ]
  },
  {
   "cell_type": "code",
   "execution_count": null,
   "metadata": {
    "ExecuteTime": {
     "end_time": "2018-11-05T09:52:56.778083Z",
     "start_time": "2018-11-05T09:52:56.445334Z"
    }
   },
   "outputs": [],
   "source": [
    "noam_images_bgr = list(map(get_image_from_path_bgr, glob.glob(\"people/noam_chomsky/*.*\")))\n",
    "other_people_bgr = list(map(get_image_from_path_bgr, glob.glob(\"people/foucault/*.*\")))"
   ]
  },
  {
   "cell_type": "code",
   "execution_count": null,
   "metadata": {
    "ExecuteTime": {
     "end_time": "2018-11-05T09:53:40.888531Z",
     "start_time": "2018-11-05T09:52:57.252725Z"
    }
   },
   "outputs": [],
   "source": [
    "insightface = Identifier(model_path=os.path.join('models','insightface', 'insightface_ckpt'), is_insightface=True)\n",
    "noam_vectors_insightface = list(map(lambda x : x[0], filter(None, insightface.vectorize_all(noam_images_bgr, prealigned=False))))\n",
    "other_vectors_insightface = list(map(lambda x : x[0], filter(None, insightface.vectorize_all(other_people_bgr, prealigned=False))))\n",
    "# combine into one features array\n",
    "features_insightface = np.array(noam_vectors_insightface + other_vectors_insightface)\n",
    "# label each feature (0 is noam and 1 is not noam)\n",
    "labels_insightface = np.array(([0] * len(noam_vectors_insightface)) + ([1] * len(other_vectors_insightface)))\n",
    "# use tsne to reduce dimensionality for visualization\n",
    "tsne_insightface = TSNE(n_components=2, random_state=0)\n",
    "reduced_insightface = tsne_insightface.fit_transform(features_insightface)"
   ]
  },
  {
   "cell_type": "code",
   "execution_count": null,
   "metadata": {
    "ExecuteTime": {
     "end_time": "2018-11-05T09:53:41.184401Z",
     "start_time": "2018-11-05T09:53:40.891554Z"
    }
   },
   "outputs": [],
   "source": [
    "plt.figure(figsize=(20, 20))\n",
    "colors = 'r', 'g',\n",
    "for i, c, label in zip([0, 1], colors, ['noam_chomsky', 'foucault']):\n",
    "    plt.scatter(reduced_insightface[labels_insightface == i, 0], reduced_insightface[labels_insightface == i, 1], c=c, label=label)\n",
    "plt.legend()\n",
    "plt.show()"
   ]
  },
  {
   "cell_type": "markdown",
   "metadata": {},
   "source": [
    "### Visualize face encodings: directory"
   ]
  },
  {
   "cell_type": "code",
   "execution_count": null,
   "metadata": {
    "ExecuteTime": {
     "end_time": "2018-11-07T14:55:43.367179Z",
     "start_time": "2018-11-07T14:55:13.261710Z"
    }
   },
   "outputs": [],
   "source": [
    "tsne_sklearn(\n",
    "        img_dir=\"/Users/armanrahman/facenet_sandberg/notebooks/people\",\n",
    "        model_path=\"/Users/armanrahman/models/facenet_model.pb\",\n",
    "        is_insightface=False,\n",
    "        prealigned=False,\n",
    "        is_flat=False,\n",
    "        log_dir=\"log_dir\")"
   ]
  },
  {
   "cell_type": "code",
   "execution_count": 2,
   "metadata": {
    "ExecuteTime": {
     "end_time": "2018-11-07T15:46:31.597259Z",
     "start_time": "2018-11-07T15:46:09.854515Z"
    }
   },
   "outputs": [
    {
     "name": "stderr",
     "output_type": "stream",
     "text": [
      "Encoding:100% |##########################| Time:  0:00:08 Elapsed Time: 0:00:08\n",
      "'c' argument looks like a single numeric RGB or RGBA sequence, which should be avoided as value-mapping will have precedence in case its length matches with 'x' & 'y'.  Please use a 2-D array with a single row if you really want to specify the same RGB or RGBA value for all points.\n",
      "'c' argument looks like a single numeric RGB or RGBA sequence, which should be avoided as value-mapping will have precedence in case its length matches with 'x' & 'y'.  Please use a 2-D array with a single row if you really want to specify the same RGB or RGBA value for all points.\n"
     ]
    },
    {
     "data": {
      "image/png": "[encoded data removed]",
      "text/plain": [
       "<Figure size 2160x2160 with 1 Axes>"
      ]
     },
     "metadata": {
      "needs_background": "light"
     },
     "output_type": "display_data"
    }
   ],
   "source": [
    "plt = tsne_sklearn(\n",
    "        img_dir=\"/Users/armanrahman/facenet_sandberg/notebooks/people\",\n",
    "        model_path=\"/Users/armanrahman/models/facenet_model.pb\",\n",
    "        is_insightface=False,\n",
    "        prealigned=False,\n",
    "        is_flat=False,\n",
    "        save_plt=False)"
   ]
  },
  {
   "cell_type": "markdown",
   "metadata": {},
   "source": [
    "# Compare two faces"
   ]
  },
  {
   "cell_type": "code",
   "execution_count": null,
   "metadata": {
    "ExecuteTime": {
     "end_time": "2018-11-05T09:04:50.839002Z",
     "start_time": "2018-11-05T09:04:50.422416Z"
    }
   },
   "outputs": [],
   "source": [
    "plot_images(noam_chomsky_1, noam_chomsky_2)"
   ]
  },
  {
   "cell_type": "code",
   "execution_count": null,
   "metadata": {
    "ExecuteTime": {
     "end_time": "2018-11-05T09:04:52.676870Z",
     "start_time": "2018-11-05T09:04:50.841114Z"
    }
   },
   "outputs": [],
   "source": [
    "identifier.compare_images(noam_chomsky_1, noam_chomsky_2).is_match"
   ]
  },
  {
   "cell_type": "code",
   "execution_count": null,
   "metadata": {
    "ExecuteTime": {
     "end_time": "2018-11-05T09:04:52.963315Z",
     "start_time": "2018-11-05T09:04:52.678783Z"
    }
   },
   "outputs": [],
   "source": [
    "plot_images(noam_chomsky_2, not_noam_chomsky)"
   ]
  },
  {
   "cell_type": "code",
   "execution_count": null,
   "metadata": {
    "ExecuteTime": {
     "end_time": "2018-11-05T09:04:53.763808Z",
     "start_time": "2018-11-05T09:04:52.965658Z"
    }
   },
   "outputs": [],
   "source": [
    "identifier.compare_images(noam_chomsky_2, not_noam_chomsky).is_match"
   ]
  },
  {
   "cell_type": "code",
   "execution_count": null,
   "metadata": {},
   "outputs": [],
   "source": []
  }
 ],
 "metadata": {
  "kernelspec": {
   "display_name": "Python 3",
   "language": "python",
   "name": "python3"
  },
  "language_info": {
   "codemirror_mode": {
    "name": "ipython",
    "version": 3
   },
   "file_extension": ".py",
   "mimetype": "text/x-python",
   "name": "python",
   "nbconvert_exporter": "python",
   "pygments_lexer": "ipython3",
   "version": "3.6.6"
  }
 },
 "nbformat": 4,
 "nbformat_minor": 2
}
