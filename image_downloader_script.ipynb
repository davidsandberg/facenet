{
 "cells": [
  {
   "cell_type": "markdown",
   "metadata": {},
   "source": [
    "This jupyter notebook used to get reference images from training and test datasets\n",
    "\n"
   ]
  },
  {
   "cell_type": "markdown",
   "metadata": {},
   "source": [
    "## Reference images obtaining "
   ]
  },
  {
   "cell_type": "code",
   "execution_count": 1,
   "metadata": {},
   "outputs": [],
   "source": [
    "def fetch_images(csv_path, image_path, n_workers=100):\n",
    "    \"\"\"This function is used to download all imgs from csv file\n",
    "       if the image is not exists.\n",
    "\n",
    "    Args:\n",
    "      csv_path: the csv path\n",
    "      img_path: the path to save downloaded images\n",
    "      \n",
    "    Returns:\n",
    "        Nothing\n",
    "    \"\"\"\n",
    "    \n",
    "    csv_reference_df = pd.read_csv(csv_path, \n",
    "                                   index_col=False, \n",
    "                                   encoding='utf-8')\n",
    "    image_url_list = csv_reference_df['ImgUrl'].unique().tolist()\n",
    "    image_url_clean_list = []\n",
    "    \n",
    "    if not os.path.exists(image_path):\n",
    "        os.makedirs(image_path)\n",
    "    \n",
    "    # Check the image is whether exist in the image pool\n",
    "    for n in image_url_list:\n",
    "        image_filename = n.split('/')[-1]\n",
    "        temp_path = os.path.join(image_path, image_filename)\n",
    "        \n",
    "        if not os.path.isfile(temp_path):\n",
    "            image_url_clean_list.append(n)\n",
    "    \n",
    "    # Download image if not in the image pool\n",
    "    download_images(urls=image_url_clean_list, \n",
    "                    n_workers=n_workers, \n",
    "                    output_folder=image_path)"
   ]
  },
  {
   "cell_type": "code",
   "execution_count": 2,
   "metadata": {},
   "outputs": [],
   "source": [
    "# -*- coding: utf-8 -*-\n",
    "\n",
    "# ==============================================================================\n",
    "# Author: Weikun Han <i-weikun.han@clobotics.com>\n",
    "# Crate date: 09/19/2018\n",
    "# Updated by: \n",
    "# Update date:\n",
    "#\n",
    "# Copyright 2018 The Clobotics Authors. All Rights Reserved.\n",
    "# ==============================================================================\n",
    "\n",
    "import shutil\n",
    "import argparse\n",
    "import os\n",
    "import glob\n",
    "import pandas as pd\n",
    "import numpy as np\n",
    "from feature_extractor.batch import download_images\n",
    "from activelearning.others.downloader import Downloader\n",
    "from __future__ import absolute_import\n",
    "from __future__ import division\n",
    "from __future__ import print_function\n",
    "\n",
    "def prepare_images(filename_list=['test_data_sku_CCNA_20180619.csv','test_data_sku_CCNA_20180612.csv','test_data_sku_CCNA_20180614.csv','test_data_sku_CCNA_20180616.csv','test_data_sku_CCNA_20180623.csv','test_data_sku_CCNA_20180627.csv','test_data_sku_CCNA_20180629.csv','test_data_sku_CCNA_20180709.csv','test_data_sku_RCCB_20180817.csv'], INPUT_DIR = '/home/caffe/caffe/examples/sku_classification/', OUTPUT_DIR = '/datadrive/images/ccna_test_data_latest_full'):\n",
    "    output_images_dir = os.path.join(OUTPUT_DIR, 'all_images')\n",
    "    output_cropped_images_dir = os.path.join(OUTPUT_DIR, 'all_cropped_images')\n",
    "\n",
    "    # The path to save the single .csv file containing all target .csv files\n",
    "    sum_filename_out = '/datadrive/ccna_all_test_datasets.csv' # you can it what you want\n",
    "\n",
    "    # The path head sku list no reference images, the first col is sku ID and NO header\n",
    "    csv_filename_in = '/home/caffe/facenet/CCNA_head_sku_list.csv'# You need ask \n",
    "\n",
    "    # Locate .cvs and true labels for cropping\n",
    "    filepath_list = [os.path.join(INPUT_DIR, n) for n in filename_list]\n",
    "\n",
    "    # Read head SKU list without reference images\n",
    "    sku_id_df = pd.read_csv(csv_filename_in, \n",
    "                            index_col=False, \n",
    "                            header=None,\n",
    "                            encoding='utf-8')\n",
    "    sku_id_df = sku_id_df.loc[:,0].tolist()\n",
    "    sum_df = pd.DataFrame()\n",
    "\n",
    "    print(' -> Reading the head SKU list with no reference \\\n",
    "          images from: {}'.format(csv_filename_in))\n",
    "\n",
    "    for n in filepath_list:\n",
    "        temp_df = pd.read_csv(n, index_col=False, encoding='utf-8')\n",
    "        temp_df = temp_df.loc[temp_df.SystemId.isin(sku_id_df)]\n",
    "        sum_df = sum_df.append(temp_df)\n",
    "\n",
    "        print(' -> Obtaining target .csv dataset from: {}'.format(n))\n",
    "\n",
    "    # Save information to temp loaction\n",
    "    sum_df.to_csv(sum_filename_out, index=False, encoding='utf-8')\n",
    "\n",
    "    print(' -> The combination all .csv datasets and \\\n",
    "          save it into: {}'.format(sum_filename_out))\n",
    "\n",
    "    # Begin downloading\n",
    "    fetch_images(sum_filename_out, output_images_dir)\n",
    "\n",
    "    # Uncomment blow code if you want clean saved all cropped images\n",
    "    #if os.path.exists(output_cropped_images_dir):\n",
    "    #    shutil.rmtree(output_cropped_images_dir)\n",
    "\n",
    "    # Begin cropping\n",
    "    Downloader.crop_save_sku(output_cropped_images_dir,\n",
    "                             output_images_dir,\n",
    "                             sum_filename_out,\n",
    "                             ignore_ids = [-1, 0, 2, 1, 1265, 1000050])\n",
    "\n",
    "    print('All done')"
   ]
  },
  {
   "cell_type": "code",
   "execution_count": null,
   "metadata": {},
   "outputs": [],
   "source": [
    "prepare_images()"
   ]
  },
  {
   "cell_type": "code",
   "execution_count": null,
   "metadata": {},
   "outputs": [],
   "source": []
  }
 ],
 "metadata": {
  "kernelspec": {
   "display_name": "Python 2",
   "language": "python",
   "name": "python2"
  },
  "language_info": {
   "codemirror_mode": {
    "name": "ipython",
    "version": 2
   },
   "file_extension": ".py",
   "mimetype": "text/x-python",
   "name": "python",
   "nbconvert_exporter": "python",
   "pygments_lexer": "ipython2",
   "version": "2.7.12"
  }
 },
 "nbformat": 4,
 "nbformat_minor": 2
}
