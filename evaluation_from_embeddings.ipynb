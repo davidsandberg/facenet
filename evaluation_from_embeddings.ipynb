{
 "cells": [
  {
   "cell_type": "code",
   "execution_count": 57,
   "metadata": {},
   "outputs": [],
   "source": [
    "import pickle\n",
    "from sklearn.svm import LinearSVC, SVC\n",
    "from sklearn.linear_model import SGDClassifier\n",
    "from sklearn.model_selection import train_test_split\n",
    "import os\n",
    "import numpy as np\n",
    "from itertools import cycle\n",
    "from sklearn.metrics import roc_curve, auc\n",
    "from sklearn.model_selection import train_test_split\n",
    "from scipy import interp\n",
    "from sklearn.metrics import classification_report\n",
    "from sklearn.preprocessing import LabelEncoder as LE\n",
    "import time\n",
    "from sklearn.ensemble import BaggingClassifier, RandomForestClassifier\n",
    "from sklearn.multiclass import OneVsRestClassifier\n",
    "import matplotlib.pyplot as plt \n",
    "%matplotlib inline\n",
    "import pandas as pd\n",
    "import random\n",
    "from sklearn.metrics import precision_score\n",
    "from sklearn.metrics import recall_score"
   ]
  },
  {
   "cell_type": "code",
   "execution_count": 2,
   "metadata": {},
   "outputs": [],
   "source": [
    "def classification_report_csv(report, csv_file_name):\n",
    "    report_data = []\n",
    "    lines = report.split('\\n')\n",
    "    for line in lines[2:-3]:\n",
    "        row = {}\n",
    "        row_data = line.split('      ')\n",
    "        row['class'] = row_data[0]\n",
    "        row['precision'] = float(row_data[1])\n",
    "        row['recall'] = float(row_data[2])\n",
    "        row['f1_score'] = float(row_data[3])\n",
    "        row['support'] = float(row_data[4])\n",
    "        report_data.append(row)\n",
    "    dataframe = pd.DataFrame.from_dict(report_data)\n",
    "    dataframe.to_csv(csv_file_name, index = False)"
   ]
  },
  {
   "cell_type": "code",
   "execution_count": 3,
   "metadata": {},
   "outputs": [],
   "source": [
    "def get_embedding_dicts(tr_embeddings = 'CCNA_full_training_embeddings_facenet_model_v1.npy', ts_embeddings = 'CCNA_full_testing_embeddings_facenet_model_v1.npy', tr_image_names = 'ccna_full_training_image_names_list.npy', ts_image_names='ccna_full_testing_image_names_list.npy'):\n",
    "    training_embeddings = np.load(tr_embeddings)\n",
    "    training_image_names = np.load(tr_image_names)\n",
    "    training_labels = np.asarray([image_name.split('/')[-2] for image_name in training_image_names])\n",
    "    training_sku_id_set = list(set(training_labels))\n",
    "\n",
    "    testing_embeddings = np.load(ts_embeddings)\n",
    "    testing_image_names = np.load(ts_image_names)\n",
    "    testing_labels = np.asarray([image_name.split('/')[-2] for image_name in testing_image_names])\n",
    "    testing_sku_id_set = list(set(testing_labels))\n",
    "    \n",
    "    total_sku_set = list(set(training_sku_id_set+testing_sku_id_set))\n",
    "    \n",
    "    print ('\\nFound a total of '+str(len(total_sku_set))+' SKUs in both testing and training.\\n')\n",
    "    \n",
    "    training_embedding_dict = {}\n",
    "    testing_embedding_dict = {}\n",
    "    \n",
    "    for i in range(len(training_embeddings)):\n",
    "        if training_labels[i] not in training_embedding_dict.keys():\n",
    "            training_embedding_dict[training_labels[i]] = np.asarray([training_embeddings[i]])\n",
    "        else:\n",
    "            training_embedding_dict[training_labels[i]] = np.vstack((training_embedding_dict[training_labels[i]], np.asarray([training_embeddings[i]])))\n",
    "    \n",
    "    for i in range(len(testing_embeddings)):\n",
    "        if testing_labels[i] not in testing_embedding_dict.keys():\n",
    "            testing_embedding_dict[testing_labels[i]] = np.asarray([testing_embeddings[i]])\n",
    "        else:\n",
    "            testing_embedding_dict[testing_labels[i]] = np.vstack((testing_embedding_dict[testing_labels[i]], np.asarray([testing_embeddings[i]])))\n",
    "    \n",
    "    return total_sku_set, training_embedding_dict, testing_embedding_dict"
   ]
  },
  {
   "cell_type": "code",
   "execution_count": 4,
   "metadata": {},
   "outputs": [
    {
     "name": "stdout",
     "output_type": "stream",
     "text": [
      "\n",
      "Found a total of 857 SKUs in both testing and training.\n",
      "\n",
      "('Time taken for getting the embedding dicts: ', 321.91841101646423)\n"
     ]
    }
   ],
   "source": [
    "start = time.time()\n",
    "total_sku_set, training_embedding_dict, testing_embedding_dict = get_embedding_dicts()\n",
    "end = time.time()\n",
    "print ('Time taken for getting the embedding dicts: ', end-start)"
   ]
  },
  {
   "cell_type": "code",
   "execution_count": 5,
   "metadata": {},
   "outputs": [],
   "source": [
    "#Understand the distributions of each sku images in both training and testing\n",
    "total_sku_image_count_training = {}\n",
    "total_sku_image_count_testing = {}\n",
    "for sku in total_sku_set:\n",
    "    if sku in training_embedding_dict:\n",
    "        total_sku_image_count_training[sku] = len(training_embedding_dict[sku])\n",
    "    if sku in testing_embedding_dict:\n",
    "        total_sku_image_count_testing[sku] = len(testing_embedding_dict[sku])"
   ]
  },
  {
   "cell_type": "code",
   "execution_count": 47,
   "metadata": {},
   "outputs": [
    {
     "name": "stdout",
     "output_type": "stream",
     "text": [
      "389\n"
     ]
    }
   ],
   "source": [
    "k = 40\n",
    "skus_with_atleast_k_tr_images = [sku for sku in total_sku_image_count_training if total_sku_image_count_training[sku] >= k]\n",
    "print (len(skus_with_atleast_k_tr_images))"
   ]
  },
  {
   "cell_type": "code",
   "execution_count": 26,
   "metadata": {},
   "outputs": [],
   "source": [
    "def get_stranger_pool_dict(training_embedding_dict, testing_embedding_dict, stranger_pool_k = 20, min_k = 20):\n",
    "    stranger_pool_dict = {}\n",
    "    new_training_dict = {}\n",
    "    for sku in training_embedding_dict:\n",
    "        if (sku in testing_embedding_dict) and len(training_embedding_dict[sku])>=(stranger_pool_k+min_k):\n",
    "            stranger_pool_dict[sku] = training_embedding_dict[sku][:stranger_pool_k]\n",
    "            new_training_dict[sku] = training_embedding_dict[sku][stranger_pool_k:]\n",
    "    return new_training_dict, stranger_pool_dict"
   ]
  },
  {
   "cell_type": "code",
   "execution_count": 27,
   "metadata": {},
   "outputs": [],
   "source": [
    "new_training_dict, stranger_pool_dict = get_stranger_pool_dict(training_embedding_dict, testing_embedding_dict, stranger_pool_k = 20, min_k = 20)"
   ]
  },
  {
   "cell_type": "code",
   "execution_count": 30,
   "metadata": {},
   "outputs": [],
   "source": [
    "#Iterative stranger set curation process\n",
    "def iterative_pool_curation():\n",
    "    init_pool_size = 100\n",
    "    stranger_pool = random.sample(list(stranger_pool_dict.keys()), init_pool_size)\n",
    "    clf_dict = {}\n",
    "    for sku in new_training_dict:\n",
    "        X_train = new_training_dict[sku]\n",
    "        #print (sku, len(X_train))\n",
    "        y_train = len(X_train)*[sku]\n",
    "        for stranger_sku in stranger_pool:\n",
    "            if stranger_sku != sku:\n",
    "                X_train = np.vstack((X_train, stranger_pool_dict[stranger_sku]))\n",
    "                y_train += len(stranger_pool_dict[stranger_sku])*['stranger']\n",
    "        clf_dict[sku] = LinearSVC()\n",
    "        clf_dict[sku].fit(X_train, y_train)\n",
    "    return stranger_pool, clf_dict"
   ]
  },
  {
   "cell_type": "code",
   "execution_count": 31,
   "metadata": {},
   "outputs": [
    {
     "name": "stdout",
     "output_type": "stream",
     "text": [
      "('Time taken: ', 13.609617948532104)\n"
     ]
    }
   ],
   "source": [
    "start = time.time()\n",
    "stranger_pool, clf_dict = iterative_pool_curation()\n",
    "print ('Time taken: ', time.time()-start)"
   ]
  },
  {
   "cell_type": "code",
   "execution_count": 35,
   "metadata": {},
   "outputs": [],
   "source": [
    "#testing per-sku-svm\n",
    "#total_predictions_list = []\n",
    "#total_gt_list = []\n",
    "predictions_dict = {}\n",
    "X_test_dict = {}\n",
    "y_test_dict = {}\n",
    "score_dict = {}\n",
    "for sku in clf_dict:\n",
    "    X_test_dict[sku] = np.empty((0,128))\n",
    "    y_test_dict[sku] = []\n",
    "    for test_sku in testing_embedding_dict:\n",
    "        if test_sku == sku:\n",
    "            X_test_dict[sku] = np.vstack((X_test_dict[sku], testing_embedding_dict[test_sku]))\n",
    "            y_test_dict[sku] += len(testing_embedding_dict[test_sku])*[sku]\n",
    "        else:\n",
    "            X_test_dict[sku] = np.vstack((X_test_dict[sku], testing_embedding_dict[test_sku]))\n",
    "            y_test_dict[sku] += len(testing_embedding_dict[test_sku])*['stranger']\n",
    "    predictions_dict[sku] = clf_dict[sku].predict(X_test_dict[sku])\n",
    "    score_dict[sku] = clf_dict[sku].score(X_test_dict[sku], y_test_dict[sku])\n",
    "    #total_predictions_list += predictions_dict[sku]\n",
    "    #total_gt_list += y_test_dict[sku]"
   ]
  },
  {
   "cell_type": "code",
   "execution_count": 45,
   "metadata": {},
   "outputs": [
    {
     "data": {
      "image/png": "[encoded data removed]",
      "text/plain": [
       "<Figure size 432x288 with 1 Axes>"
      ]
     },
     "metadata": {},
     "output_type": "display_data"
    }
   ],
   "source": [
    "svm_scores = list(score_dict.values())\n",
    "plt.plot(sorted(svm_scores))\n",
    "plt.show()"
   ]
  },
  {
   "cell_type": "code",
   "execution_count": 46,
   "metadata": {},
   "outputs": [
    {
     "data": {
      "image/png": "[encoded data removed]",
      "text/plain": [
       "<Figure size 432x288 with 1 Axes>"
      ]
     },
     "metadata": {},
     "output_type": "display_data"
    }
   ],
   "source": [
    "plt.hist(svm_scores)\n",
    "plt.show()"
   ]
  },
  {
   "cell_type": "code",
   "execution_count": 42,
   "metadata": {},
   "outputs": [],
   "source": [
    "save_obj(clf_dict, 'Classifier_Dict_CCNA')"
   ]
  },
  {
   "cell_type": "code",
   "execution_count": 64,
   "metadata": {},
   "outputs": [],
   "source": [
    "def get_precision_recall(y_true, y_pred):\n",
    "    tp = 0\n",
    "    fp = 0\n",
    "    tn = 0\n",
    "    fn = 0\n",
    "    for i in range(len(y_true)):\n",
    "        if y_true[i] == 1 and y_pred[i] == 1:\n",
    "            tp+=1\n",
    "        elif y_true[i] == 1 and y_pred[i] == 0:\n",
    "            fn+=1\n",
    "        elif y_true[i] == 0 and y_pred[i] == 0:\n",
    "            tn+=1\n",
    "        else:\n",
    "            fp+=1\n",
    "    precision = tp/(tp+fp)\n",
    "    recall = tp/(tp+fn)\n",
    "    print ('Precision: ', precision, 'Recall: ', recall)\n",
    "    return precision, recall"
   ]
  },
  {
   "cell_type": "code",
   "execution_count": 66,
   "metadata": {},
   "outputs": [
    {
     "name": "stdout",
     "output_type": "stream",
     "text": [
      "('Precision: ', 0, 'Recall: ', 1)\n"
     ]
    }
   ],
   "source": [
    "precision_dict = {}\n",
    "recall_dict = {}\n",
    "good_skus = []\n",
    "for sku in y_test_dict:\n",
    "    total_gt_encoded = []\n",
    "    total_predictions = []\n",
    "    for label in y_test_dict[sku]:\n",
    "        if label == sku:\n",
    "            total_gt_encoded += [1]\n",
    "        else:\n",
    "            total_gt_encoded += [0]\n",
    "    for predicted_label in predictions_dict[sku]:\n",
    "        if label == sku:\n",
    "            total_predictions += [1]\n",
    "        else:\n",
    "            total_predictions += [0]\n",
    "    try:\n",
    "        precision_dict[sku], recall_dict[sku] = get_precision_recall(total_gt_encoded, total_predictions)\n",
    "        if ((precision_dict[sku]>=0.85) and (recall_dict[sku]>=0.85)):\n",
    "            good_skus += [sku]\n",
    "    except ZeroDivisionError:\n",
    "        continue"
   ]
  },
  {
   "cell_type": "code",
   "execution_count": 67,
   "metadata": {},
   "outputs": [
    {
     "name": "stdout",
     "output_type": "stream",
     "text": [
      "[]\n"
     ]
    }
   ],
   "source": [
    "print (good_skus)"
   ]
  },
  {
   "cell_type": "code",
   "execution_count": null,
   "metadata": {},
   "outputs": [],
   "source": [
    "def get_subset_training_and_testing_data(training_embedding_dict, testing_embedding_dict, k, min_test_size = 20, evaluation_mode = 1):\n",
    "    X_train, y_train_actual = np.empty((0, 128)), []\n",
    "    X_test, y_test_actual = np.empty((0, 128)), []\n",
    "    for sku in training_embedding_dict:\n",
    "        if sku in testing_embedding_dict:\n",
    "            if total_sku_image_count_training[sku]>=k and total_sku_image_count_testing[sku]>=min_test_size:\n",
    "                tot_embs = training_embedding_dict[sku]\n",
    "                if not evaluation_mode:\n",
    "                    X_train = np.vstack((X_train, tot_embs[np.random.randint(len(tot_embs), size=k)]))\n",
    "                    y_train_actual += k*[sku]\n",
    "                else:\n",
    "                    X_train = np.vstack((X_train, tot_embs))\n",
    "                    y_train_actual += len(tot_embs)*[sku]\n",
    "                if sku in testing_embedding_dict:\n",
    "                    X_test = np.vstack((X_test, testing_embedding_dict[sku]))\n",
    "                    y_test_actual += len(testing_embedding_dict[sku])*[sku]\n",
    "    return X_train, np.asarray(y_train_actual), X_test, np.asarray(y_test_actual)"
   ]
  },
  {
   "cell_type": "code",
   "execution_count": null,
   "metadata": {},
   "outputs": [],
   "source": [
    "#Snippet of interest for producing the standard baseline results\n",
    "X_train, y_train, X_test, y_test = get_subset_training_and_testing_data(training_embedding_dict, testing_embedding_dict, k = 20, min_test_size=20, evaluation_mode = 1)\n",
    "start = time.time()\n",
    "ovr_clf = LinearSVC()\n",
    "ovr_clf.fit(X_train, y_train)\n",
    "end = time.time()\n",
    "print ('time to train linear SVC: ', end-start)\n",
    "accuracy = ovr_clf.score(X_test,y_test)\n",
    "predictions = ovr_clf.predict(X_test)\n",
    "ovr_clf_report = classification_report(y_test, predictions)\n",
    "classification_report_csv(ovr_clf_report, 'linear_svc_Final_full_tr_data_std_min_20.csv')\n",
    "rep = pd.read_csv('linear_svc_Final_full_tr_data_std_min_20.csv')\n",
    "good_skus = rep[(rep.precision >= 0.85) & (rep.recall >= 0.85)]\n",
    "no_of_good_skus = len(good_skus)\n",
    "print ('Total_good_skus according to standard eval test: ', no_of_good_skus)\n",
    "print ('SVM accuracy: ', accuracy)"
   ]
  },
  {
   "cell_type": "code",
   "execution_count": null,
   "metadata": {},
   "outputs": [],
   "source": [
    "def evaluate_wrt_no_of_training_images(training_embedding_dict, testing_embedding_dict, k = 100, precision_recall_tolerance = 0.85):\n",
    "    X_train, y_train_actual, X_test, y_test_actual = get_subset_training_and_testing_data(training_embedding_dict, testing_embedding_dict, k, evaluation_mode = 0)\n",
    "    #start = time.time()\n",
    "    ovr_clf = LinearSVC()\n",
    "    ovr_clf.fit(X_train, y_train_actual)\n",
    "    #end = time.time()\n",
    "    accuracy = ovr_clf.score(X_test,y_test_actual)\n",
    "    predictions = ovr_clf.predict(X_test)\n",
    "    ovr_clf_report = classification_report(y_test_actual, predictions)\n",
    "    classification_report_csv(ovr_clf_report, 'new_linear_svc_cr.csv')\n",
    "    rep = pd.read_csv('new_linear_svc_cr.csv')\n",
    "    good_skus = rep[(rep.precision >= 0.85) & (rep.recall >= 0.85)]\n",
    "    no_of_good_skus = len(good_skus)\n",
    "    return no_of_good_skus, accuracy"
   ]
  },
  {
   "cell_type": "code",
   "execution_count": null,
   "metadata": {},
   "outputs": [],
   "source": [
    "start = time.time()\n",
    "results = [evaluate_wrt_no_of_training_images(training_embedding_dict, testing_embedding_dict, k=k) for k in range(20,1000,10)]\n",
    "end = time.time()\n",
    "print ('Total evaluation time: '+ str(end-start))"
   ]
  },
  {
   "cell_type": "code",
   "execution_count": null,
   "metadata": {},
   "outputs": [],
   "source": [
    "X_axis = [float(k) for k in range(20,1000,10)]\n",
    "results = np.asarray(results, dtype = np.float32)\n",
    "plt.plot(list(X_axis), list(results[:,0]))\n",
    "plt.show()"
   ]
  },
  {
   "cell_type": "code",
   "execution_count": null,
   "metadata": {},
   "outputs": [],
   "source": [
    "plt.plot(list(X_axis), list(results[:,1]))\n",
    "plt.show()"
   ]
  },
  {
   "cell_type": "code",
   "execution_count": null,
   "metadata": {},
   "outputs": [],
   "source": [
    "le = LE() "
   ]
  },
  {
   "cell_type": "code",
   "execution_count": null,
   "metadata": {},
   "outputs": [],
   "source": [
    "le = le.fit(np.concatenate((y_test, y_train)))\n",
    "#print (len(le.classes_))\n",
    "y_train = le.transform(y_train)\n",
    "y_test = le.transform(y_test)"
   ]
  },
  {
   "cell_type": "code",
   "execution_count": null,
   "metadata": {},
   "outputs": [],
   "source": [
    "start = time.time()\n",
    "rfa_clf = RandomForestClassifier(min_samples_leaf=20, n_jobs=5)\n",
    "rfa_clf.fit(X_train, y_train)\n",
    "end = time.time()\n",
    "print (\"Random Forest\", end - start, rfa_clf.score(X_test,y_test))\n",
    "rfa_proba = rfa_clf.predict_proba(X_test)"
   ]
  },
  {
   "cell_type": "code",
   "execution_count": null,
   "metadata": {},
   "outputs": [],
   "source": [
    "n_estimators = 10\n",
    "start = time.time()\n",
    "ens_clf = OneVsRestClassifier(BaggingClassifier(SVC(kernel='linear', probability=True, class_weight='balanced'), max_samples=1.0 / n_estimators, n_estimators=n_estimators),5)\n",
    "ens_clf.fit(X_train, y_train)\n",
    "end = time.time()\n",
    "print (\"Bagging SVC\", end - start, ens_clf.score(X_test,y_test))\n",
    "ens_proba = ens_clf.predict_proba(X_test)"
   ]
  },
  {
   "cell_type": "code",
   "execution_count": null,
   "metadata": {},
   "outputs": [],
   "source": [
    "start = time.time()\n",
    "ovr_clf = OneVsRestClassifier(SVC(kernel='linear', probability=True, class_weight='balanced'), 5)\n",
    "ovr_clf.fit(X_train, y_train)\n",
    "end = time.time()\n",
    "print (\"Single SVC\", end - start, ovr_clf.score(X_test,y_test))\n",
    "ovr_proba = ovr_clf.predict_proba(X_test)"
   ]
  },
  {
   "cell_type": "code",
   "execution_count": null,
   "metadata": {},
   "outputs": [],
   "source": [
    "clf = LinearSVC(C=50,class_weight='balanced',max_iter=100000)\n",
    "clf.fit(X_train, y_train)\n",
    "\n",
    "#y_score = clf.decision_function(X_test)\n",
    "predictions = clf.predict(X_test)\n",
    "report = classification_report(y_test, predictions)\n",
    "\n"
   ]
  },
  {
   "cell_type": "code",
   "execution_count": null,
   "metadata": {},
   "outputs": [],
   "source": [
    "n_training_classes = len(training_sku_id_set)\n",
    "n_testing_classes = len(testing_sku_id_set)\n",
    "print ('Training_classes: ', n_training_classes)\n",
    "print ('Testing_classes: ', n_testing_classes)\n",
    "n_classes = n_training_classes"
   ]
  },
  {
   "cell_type": "code",
   "execution_count": null,
   "metadata": {},
   "outputs": [],
   "source": [
    "def plot_roc(y_score, y_test, cls_index = -1, avg = True, lw = 2):\n",
    "    # Compute ROC curve and ROC area for each class\n",
    "    fpr = dict()\n",
    "    tpr = dict()\n",
    "    roc_auc = dict()\n",
    "    for i in range(n_classes):\n",
    "        fpr[i], tpr[i], _ = roc_curve(y_test[:, i], y_score[:, i])\n",
    "        roc_auc[i] = auc(fpr[i], tpr[i])\n",
    "\n",
    "    # Compute micro-average ROC curve and ROC area\n",
    "    fpr[\"micro\"], tpr[\"micro\"], _ = roc_curve(y_test.ravel(), y_score.ravel())\n",
    "    roc_auc[\"micro\"] = auc(fpr[\"micro\"], tpr[\"micro\"])\n",
    "    \n",
    "    if cls_index!=-1:\n",
    "        plt.figure()\n",
    "        plt.plot(fpr[2], tpr[2], color='darkorange',\n",
    "                 lw=lw, label='ROC curve (area = %0.2f)' % roc_auc[2])\n",
    "        plt.plot([0, 1], [0, 1], color='navy', lw=lw, linestyle='--')\n",
    "        plt.xlim([0.0, 1.0])\n",
    "        plt.ylim([0.0, 1.05])\n",
    "        plt.xlabel('False Positive Rate')\n",
    "        plt.ylabel('True Positive Rate')\n",
    "        plt.title('Receiver operating characteristic example')\n",
    "        plt.legend(loc=\"lower right\")\n",
    "        plt.show()\n",
    "    if avg:\n",
    "        # First aggregate all false positive rates\n",
    "        all_fpr = np.unique(np.concatenate([fpr[i] for i in range(n_classes)]))\n",
    "\n",
    "        # Then interpolate all ROC curves at this points\n",
    "        mean_tpr = np.zeros_like(all_fpr)\n",
    "        for i in range(n_classes):\n",
    "            mean_tpr += interp(all_fpr, fpr[i], tpr[i])\n",
    "\n",
    "        # Finally average it and compute AUC\n",
    "        mean_tpr /= n_classes\n",
    "\n",
    "        fpr[\"macro\"] = all_fpr\n",
    "        tpr[\"macro\"] = mean_tpr\n",
    "        roc_auc[\"macro\"] = auc(fpr[\"macro\"], tpr[\"macro\"])\n",
    "\n",
    "        # Plot all ROC curves\n",
    "        plt.figure()\n",
    "        plt.plot(fpr[\"micro\"], tpr[\"micro\"],\n",
    "                 label='micro-average ROC curve (area = {0:0.2f})'\n",
    "                       ''.format(roc_auc[\"micro\"]),\n",
    "                 color='deeppink', linestyle=':', linewidth=4)\n",
    "\n",
    "        plt.plot(fpr[\"macro\"], tpr[\"macro\"],\n",
    "                 label='macro-average ROC curve (area = {0:0.2f})'\n",
    "                       ''.format(roc_auc[\"macro\"]),\n",
    "                 color='navy', linestyle=':', linewidth=4)\n",
    "\n",
    "        #colors = cycle(['aqua', 'darkorange', 'cornflowerblue'])\n",
    "        #for i, color in zip(range(n_classes), colors):\n",
    "        #    plt.plot(fpr[i], tpr[i], color=color, lw=lw,\n",
    "        #             label='ROC curve of class {0} (area = {1:0.2f})'\n",
    "        #             ''.format(i, roc_auc[i]))\n",
    "\n",
    "        plt.plot([0, 1], [0, 1], 'k--', lw=lw)\n",
    "        plt.xlim([0.0, 1.0])\n",
    "        plt.ylim([0.0, 1.05])\n",
    "        plt.xlabel('False Positive Rate')\n",
    "        plt.ylabel('True Positive Rate')\n",
    "        plt.title('Some extension of Receiver operating characteristic to multi-class')\n",
    "        plt.legend(loc=\"lower right\")\n",
    "        plt.show()"
   ]
  },
  {
   "cell_type": "code",
   "execution_count": null,
   "metadata": {},
   "outputs": [],
   "source": [
    "plot_roc(y_score, y_test, -1, True)"
   ]
  },
  {
   "cell_type": "code",
   "execution_count": 41,
   "metadata": {},
   "outputs": [],
   "source": [
    "def save_obj(obj, name ):\n",
    "    with open(name + '.pkl', 'wb') as f:\n",
    "        pickle.dump(obj, f, pickle.HIGHEST_PROTOCOL)\n",
    "\n",
    "def load_obj(name ):\n",
    "    with open(name + '.pkl', 'rb') as f:\n",
    "        return pickle.load(f)"
   ]
  },
  {
   "cell_type": "code",
   "execution_count": null,
   "metadata": {},
   "outputs": [],
   "source": []
  },
  {
   "cell_type": "code",
   "execution_count": null,
   "metadata": {},
   "outputs": [],
   "source": []
  },
  {
   "cell_type": "code",
   "execution_count": null,
   "metadata": {},
   "outputs": [],
   "source": []
  },
  {
   "cell_type": "code",
   "execution_count": null,
   "metadata": {},
   "outputs": [],
   "source": []
  }
 ],
 "metadata": {
  "kernelspec": {
   "display_name": "Python 2",
   "language": "python",
   "name": "python2"
  },
  "language_info": {
   "codemirror_mode": {
    "name": "ipython",
    "version": 2
   },
   "file_extension": ".py",
   "mimetype": "text/x-python",
   "name": "python",
   "nbconvert_exporter": "python",
   "pygments_lexer": "ipython2",
   "version": "2.7.12"
  }
 },
 "nbformat": 4,
 "nbformat_minor": 2
}
